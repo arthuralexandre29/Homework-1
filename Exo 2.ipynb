{
 "cells": [
  {
   "cell_type": "markdown",
   "metadata": {},
   "source": [
    "# Exercise 2 - Concentration of $\\chi^2$ variables"
   ]
  },
  {
   "cell_type": "markdown",
   "metadata": {},
   "source": [
    "# We want to compute a bound on $P(\\chi_k^2 \\geq (1+\\epsilon) k)$.\n",
    "To that end, we start by using a Chernoff-type approach such that:\n",
    "$$P(\\chi_k^2 \\geq (1+\\epsilon) k) = P(\\sum\\limits_{i=1}^k Z_i^2 \\geq (1+\\epsilon) k) = P(e^{\\lambda \\sum Z_i^2} \\geq e^{\\lambda (1+\\epsilon) k})$$\n",
    "Now, given this, we can apply Markov and obtain the following inequality for $\\lambda \\geq 0$ in general:\n",
    "$$P(e^{\\lambda \\sum Z_i^2} \\geq e^{\\lambda (1+\\epsilon) k}) \\leq \\frac{\\mathbb{E}(e^{\\lambda \\sum Z_i^2})}{e^{\\lambda (1+\\epsilon) k}}$$\n",
    "Of course, since $Z_i$ are all Gaussian i.i.d. random variables of zero mean and unit variance, we can replace the summation over $i$ by a multiplication which, on the right term, yields:\n",
    "$$\\frac{\\mathbb{E}(e^{\\lambda \\sum Z_i^2})}{e^{\\lambda (1+\\epsilon) k}} = \\frac{\\mathbb{E}(e^{\\lambda k Z_1^2})}{e^{\\lambda (1+\\epsilon) k}} = \\frac{{\\mathbb{E}(e^{\\lambda Z_1^2})}^k}{e^{\\lambda (1+\\epsilon) k}}$$\n",
    "We thus get the first result:\n",
    "$$P(\\chi_k^2 \\geq (1+\\epsilon) k) \\leq \\frac{{\\mathbb{E}(e^{\\lambda Z_1^2})}^k}{e^{\\lambda (1+\\epsilon) k}}$$\n",
    "We can now go further by computing the expectation:\n",
    "$$\\mathbb{E}(e^{\\lambda Z_1^2}) = \\int \\frac{1}{\\sqrt{2\\pi}} e^{-\\frac{z^2}{2}} e^{\\lambda z^2} dz = \\frac{1}{\\sqrt{1-2 \\lambda}}$$\n",
    "Which justifies the fact that $\\lambda$ can't be larger than $\\frac{1}{2}$.\n",
    "Therefore, the right side of the inequality becomes:\n",
    "$$\\frac{{\\mathbb{E}(e^{\\lambda Z_1^2})}^k}{e^{\\lambda (1+\\epsilon) k}} =[\\frac{1}{\\sqrt{1-2 \\lambda}} e^{-\\lambda (1+\\epsilon)}]^k$$\n",
    "We now want to optimize on $\\lambda$. We compute the derivative of the right term and solve for $0$, thus getting that the only possible value of $\\lambda$ for which the above expression is minimum is:\n",
    "$$\\lambda=\\frac{1}{2} (1 - \\frac{1}{(1+\\epsilon)})$$\n",
    "Then, we can rewrite the right term of the inequality as:\n",
    "$$[\\frac{1}{\\sqrt{1-2 \\lambda}} e^{-\\lambda (1+\\epsilon)}]^k = [\\sqrt{1+\\epsilon} e^{-\\frac{1}{2}(1-\\frac{1}{1+\\epsilon})(1+\\epsilon)}]^k = [(1+\\epsilon) e^{-\\epsilon}]^\\frac{k}{2}$$\n",
    "So we get our second result:\n",
    "$$P(\\chi_k^2 \\geq (1+\\epsilon) k) \\leq [(1+\\epsilon) e^{-\\epsilon}]^\\frac{k}{2}$$\n",
    "From here, if we apply the fact that $1+\\epsilon \\leq e^{\\epsilon - (\\epsilon^2-\\epsilon^3)/2}$ we obtain the following:\n",
    "$$P(\\chi_k^2 \\geq (1+\\epsilon) k) \\leq ((1+\\epsilon) e^{-\\epsilon})^\\frac{k}{2} \\leq (e^{\\epsilon - (\\epsilon^2-\\epsilon^3)/2 - \\epsilon})^\\frac{k}{2} = e^{-\\frac{k}{4} (\\epsilon^2-\\epsilon^3)}$$\n",
    "Which is our third result.\n",
    "Our fourth result comes from the fact that all $Z_i$ are Gaussian random variables of zero mean and unit variance, which means that $\\mathbb{E}(Z_i^2)=1 \\forall i$ so, by the properties of cumulants:\n",
    "$\\mathbb{E}(\\chi^2) = \\sum\\limits_{i=1}^k \\mathbb{E}(Z_i^2) = k$\n",
    "So we thus get that $\\chi^2$ is actually a Gaussian random variable (because it is a function of Gaussian random variables) of mean $k$. Therefore, its probability distribution must be symmetric around the mean $k$, and:\n",
    "$$P(\\chi_k^2 \\leq (1-\\epsilon) k) = P(\\chi_k^2 \\geq (1+\\epsilon) k) \\leq e^{-\\frac{k}{4} (\\epsilon^2-\\epsilon^3)}$$\n",
    "Finally, to prove that normalized $\\chi_k^2$ random variables ($\\chi_k^2/k$) are tightly concentrated around their mean we just have to compute the following probability:\n",
    "$$P(\\frac{\\chi_k^2}{k} \\in [(1-\\epsilon),(1+\\epsilon)]) = 1 - P(\\frac{\\chi_k^2}{k} \\leq (1-\\epsilon) \\cup \\frac{\\chi_k^2}{k} \\geq (1+\\epsilon)) = 1 - (P(\\chi_k^2 \\leq (1-\\epsilon) k) + P(\\chi_k^2 \\geq (1+\\epsilon) k))$$\n",
    "Therefore:\n",
    "$$ 1 - P(\\frac{\\chi_k^2}{k} \\in [(1-\\epsilon),(1+\\epsilon)]) \\leq 2 e^{-\\frac{k}{4} (\\epsilon^2-\\epsilon^3)}$$\n",
    "Which is a very tight bound on the distirbution of $\\frac{\\chi_k^2}{k}$: the probability of finding $\\frac{\\chi_k^2}{k}$ within a distance $\\epsilon$ of the mean $1$ is increasingly close to $1$ as $k$ goes to infinity. In other words, $\\frac{\\chi_k^2}{k}$ is very tightly concentrated around its mean."
   ]
  },
  {
   "cell_type": "code",
   "execution_count": null,
   "metadata": {},
   "outputs": [],
   "source": []
  }
 ],
 "metadata": {
  "kernelspec": {
   "display_name": "Python 3",
   "language": "python",
   "name": "python3"
  },
  "language_info": {
   "codemirror_mode": {
    "name": "ipython",
    "version": 3
   },
   "file_extension": ".py",
   "mimetype": "text/x-python",
   "name": "python",
   "nbconvert_exporter": "python",
   "pygments_lexer": "ipython3",
   "version": "3.6.5"
  }
 },
 "nbformat": 4,
 "nbformat_minor": 2
}
