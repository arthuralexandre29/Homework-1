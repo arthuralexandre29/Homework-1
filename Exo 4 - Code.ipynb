{
 "cells": [
  {
   "cell_type": "markdown",
   "metadata": {},
   "source": [
    "# Exercise 4 - Pooling"
   ]
  },
  {
   "cell_type": "markdown",
   "metadata": {},
   "source": [
    "Here we are dealing with a sampling problem where we want our estimator $\\^{p}$ of the fraction of people who approve of the president to be close to the real value $p$ with only a 1% maximum error and we want it to be so with 95% probability:\n",
    "$$P(|\\hat{p}-p| \\leq 0.01) \\geq 0.95  \\implies  P(|\\hat{p}-p| \\geq 0.01) \\leq 0.05$$\n",
    "We can use for this the Sanov expression for the Chernoff bound:\n",
    "$$P(\\hat{p} \\geq p+0.01) \\leq e^{-n D_{KL}(p+0.01 || p)} = 0.05$$\n",
    "$$P(\\hat{p} \\geq p-0.01) \\leq e^{-n D_{KL}(p-0.01 || p)} = 0.05$$\n",
    "Where $n$ is the size of the sample (so the number of people) and $D_{KL}$ the Kullback-Leibler divergence.\n",
    "Knowing this, we can compute the number of people needed as follows:\n",
    "$$n=\\frac{-log(0.05)}{D_{KL}(p \\pm 0.01 || p)}$$\n",
    "Now, in general, the Kullback-Leibler divergence is defined as:\n",
    "$$D_{KL}(p(x) || q(x))=\\int p(x) log(\\frac{p(x)}{q(x)})dx$$\n",
    "In our case, however, the probability distributions we are dealing with are discrete: a person can either support the president (with probability $p$, $p+0.01$ or $p-0.01$) or not (with probability $(1-p)$, $(1-p-0.01)$ or $(1-p+0.01)$). Therefore, the Kullback-Leibler divergence reduces to:\n",
    "$$D_{KL}(\\tilde{p} || \\tilde{q})=\\tilde{p}log(\\frac{\\tilde{p}}{\\tilde{q}})+(1-\\tilde{p})log(\\frac{(1-\\tilde{p})}{(1-\\tilde{q})})$$\n",
    "With all this, it would be easy to compute the number of people needed if we knew $p$. However, we don't know it's value a priori so what we can do is try out all different values of $p$ and keep the largest $n$. Note that for each possible $p$ we could use two different Kullback-Leibler divergences to compute $n$, so we need to use only the smallest one of the two to make sure we are considering the maximum $n$.\n",
    "This is done next using a python code."
   ]
  },
  {
   "cell_type": "code",
   "execution_count": 25,
   "metadata": {},
   "outputs": [
    {
     "data": {
      "image/png": "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\n",
      "text/plain": [
       "<Figure size 432x288 with 1 Axes>"
      ]
     },
     "metadata": {},
     "output_type": "display_data"
    },
    {
     "name": "stdout",
     "output_type": "stream",
     "text": [
      "We would need to ask 14978 people to be sure at least at 95% that the error committed is less than 1%.\n",
      "This is the worst case scenario, which happens at p = 0.5\n"
     ]
    }
   ],
   "source": [
    "from math import log\n",
    "import numpy as np\n",
    "import matplotlib.pyplot as plt\n",
    "import random\n",
    "\n",
    "def Dkl(p,q):\n",
    "    p=min(p,0.99999)\n",
    "    p=max(p,0.00001)\n",
    "    q=min(q,0.99999)\n",
    "    q=max(q,0.00001)\n",
    "    return p*log(p/q)+(1-p)*log((1-p)/(1-q))\n",
    "\n",
    "p_try=np.arange(0.01,1,0.01)\n",
    "n=np.zeros(len(p_try))\n",
    "\n",
    "n_max=0\n",
    "p_nmax=0\n",
    "\n",
    "for i in range(len(p_try)):\n",
    "    Dkl_plus=Dkl(p_try[i]+0.01,p_try[i])\n",
    "    Dkl_minus=Dkl(p_try[i]-0.01,p_try[i])\n",
    "    Dkl_keep=min(Dkl_plus,Dkl_minus)\n",
    "    n[i]=-log(0.05)/Dkl_keep\n",
    "    if n[i]>n_max:\n",
    "        n_max=n[i]\n",
    "        p_nmax=p_try[i]\n",
    "\n",
    "plt.plot(p_try,n)\n",
    "plt.xlabel(\"Possible values of p\")\n",
    "plt.ylabel(\"Necessary number of people\")\n",
    "plt.tight_layout\n",
    "plt.show()\n",
    "\n",
    "print(\"We would need to ask\",int(round(n_max)),\"people to be sure at least at 95% that the error committed is less than 1%.\")\n",
    "print(\"This is the worst case scenario, which happens at p =\",p_nmax)"
   ]
  },
  {
   "cell_type": "markdown",
   "metadata": {},
   "source": [
    "As we can see, according to the Chernoff bound, approximately 15 thousand people are needed to compute with 95% certainty and less than 1% error the actual fraction of people who support the president. Let's now compare this with numerical results.\n",
    "First, we will compute the fraction of times we get an error larger than 1% for a sample size of 14978 (result for the Chernoff bound). As for comparison, we will also compute this for a sample size of 10000 people only.\n",
    "This, again, is done with a python code, measuring the mean of a binomial distribution of probabilities $P(1)=P(0)=0.5$ for 10000 times (thus getting reliable statistics). Note that this distribution corresponds to the worst case scenario considered above."
   ]
  },
  {
   "cell_type": "code",
   "execution_count": 26,
   "metadata": {},
   "outputs": [
    {
     "name": "stdout",
     "output_type": "stream",
     "text": [
      "When computing the estimator by force, numerically 10000 times over a sample of 14978 people\n",
      "the error committed is larger than 1% only for 1.39 % of the times\n",
      "When computing the estimator by force, numerically 10000 times over a sample of 10000 people\n",
      "the error committed is larger than 1% only for 4.83 % of the times\n"
     ]
    }
   ],
   "source": [
    "tries=10000\n",
    "size_sample_1=int(round(n_max))\n",
    "size_sample_2=10000\n",
    "large_errors_1=0\n",
    "large_errors_2=0\n",
    "\n",
    "for i in range(tries):\n",
    "    p_rand_1=np.random.randint(0,2,size_sample) #0 for no, 1 for yes\n",
    "    p_rand_2=np.random.randint(0,2,size_sample) #0 for no, 1 for yes\n",
    "    p_est_1=sum(p_rand_1)/size_sample\n",
    "    p_est_1=sum(p_rand_2)/size_sample\n",
    "    if (abs(p_est_1-0.5)>0.01):\n",
    "        large_errors_1+=1\n",
    "    if (abs(p_est_2-0.5)>0.01):\n",
    "        large_errors_2+=1\n",
    "\n",
    "error_frac_1=large_errors_1/tries*100\n",
    "error_frac_2=large_errors_2/tries*100\n",
    "print(\"When computing the estimator by force, numerically\",tries,\"times over a sample of\",size_sample_1,\"people\")\n",
    "print(\"the error committed is larger than 1% only for\",round(error_frac_1,2),\"% of the times\")\n",
    "print(\"When computing the estimator by force, numerically\",tries,\"times over a sample of\",size_sample_2,\"people\")\n",
    "print(\"the error committed is larger than 1% only for\",round(error_frac_2,2),\"% of the times\")\n",
   ]
  },
  {
   "cell_type": "markdown",
   "metadata": {},
   "source": [
    "As we can see, using the Chernoff bound computed $n$ gives a much smaller uncertainty (only of 1-2%) than our first goal and a sample of only 10000 people is actually enough to be confident about the result for no less than 95% probability."
   ]
  },
  {
   "cell_type": "code",
   "execution_count": null,
   "metadata": {},
   "outputs": [],
   "source": []
  }
 ],
 "metadata": {
  "kernelspec": {
   "display_name": "Python 3",
   "language": "python",
   "name": "python3"
  },
  "language_info": {
   "codemirror_mode": {
    "name": "ipython",
    "version": 3
   },
   "file_extension": ".py",
   "mimetype": "text/x-python",
   "name": "python",
   "nbconvert_exporter": "python",
   "pygments_lexer": "ipython3",
   "version": "3.6.5"
  }
 },
 "nbformat": 4,
 "nbformat_minor": 2
}
